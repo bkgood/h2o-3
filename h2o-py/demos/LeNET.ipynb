{
 "cells": [
  {
   "cell_type": "code",
   "execution_count": 1,
   "metadata": {
    "collapsed": false,
    "scrolled": true
   },
   "outputs": [
    {
     "name": "stdout",
     "output_type": "stream",
     "text": [
      "Checking whether there is an H2O instance running at http://localhost:54321..... not found.\n",
      "Attempting to start a local H2O server...\n",
      "  Java Version: java version \"1.8.0_101\"; Java(TM) SE Runtime Environment (build 1.8.0_101-b13); Java HotSpot(TM) 64-Bit Server VM (build 25.101-b13, mixed mode)\n",
      "  Starting server from /home/arno/h2o-3/build/h2o.jar\n",
      "  Ice root: /tmp/tmpPZoblb\n",
      "  JVM stdout: /tmp/tmpPZoblb/h2o_arno_started_from_python.out\n",
      "  JVM stderr: /tmp/tmpPZoblb/h2o_arno_started_from_python.err\n",
      "  Server is running at http://127.0.0.1:54321\n",
      "Connecting to H2O server at http://127.0.0.1:54321... successful.\n"
     ]
    },
    {
     "data": {
      "text/html": [
       "<div style=\"overflow:auto\"><table style=\"width:50%\"><tr><td>H2O cluster uptime:</td>\n",
       "<td>02 secs</td></tr>\n",
       "<tr><td>H2O cluster version:</td>\n",
       "<td>3.11.0.99999</td></tr>\n",
       "<tr><td>H2O cluster version age:</td>\n",
       "<td>46 minutes </td></tr>\n",
       "<tr><td>H2O cluster name:</td>\n",
       "<td>H2O_from_python_arno_om38dl</td></tr>\n",
       "<tr><td>H2O cluster total nodes:</td>\n",
       "<td>1</td></tr>\n",
       "<tr><td>H2O cluster free memory:</td>\n",
       "<td>13.96 Gb</td></tr>\n",
       "<tr><td>H2O cluster total cores:</td>\n",
       "<td>12</td></tr>\n",
       "<tr><td>H2O cluster allowed cores:</td>\n",
       "<td>12</td></tr>\n",
       "<tr><td>H2O cluster status:</td>\n",
       "<td>accepting new members, healthy</td></tr>\n",
       "<tr><td>H2O connection url:</td>\n",
       "<td>http://127.0.0.1:54321</td></tr>\n",
       "<tr><td>H2O connection proxy:</td>\n",
       "<td>None</td></tr>\n",
       "<tr><td>Python version:</td>\n",
       "<td>2.7.12 final</td></tr></table></div>"
      ],
      "text/plain": [
       "--------------------------  ------------------------------\n",
       "H2O cluster uptime:         02 secs\n",
       "H2O cluster version:        3.11.0.99999\n",
       "H2O cluster version age:    46 minutes\n",
       "H2O cluster name:           H2O_from_python_arno_om38dl\n",
       "H2O cluster total nodes:    1\n",
       "H2O cluster free memory:    13.96 Gb\n",
       "H2O cluster total cores:    12\n",
       "H2O cluster allowed cores:  12\n",
       "H2O cluster status:         accepting new members, healthy\n",
       "H2O connection url:         http://127.0.0.1:54321\n",
       "H2O connection proxy:\n",
       "Python version:             2.7.12 final\n",
       "--------------------------  ------------------------------"
      ]
     },
     "metadata": {},
     "output_type": "display_data"
    }
   ],
   "source": [
    "from __future__ import print_function\n",
    "import sys, os\n",
    "import h2o\n",
    "from h2o.estimators.deepwater import H2ODeepWaterEstimator\n",
    "\n",
    "import importlib\n",
    "h2o.init()"
   ]
  },
  {
   "cell_type": "code",
   "execution_count": 2,
   "metadata": {
    "collapsed": false
   },
   "outputs": [],
   "source": [
    "if not H2ODeepWaterEstimator.available(): quit()"
   ]
  },
  {
   "cell_type": "markdown",
   "metadata": {},
   "source": [
    "# LeNET\n",
    "\n",
    "Here we define the famous LENET neural network, but you can define any deep neural network of your choice."
   ]
  },
  {
   "cell_type": "code",
   "execution_count": 3,
   "metadata": {
    "collapsed": true
   },
   "outputs": [],
   "source": [
    "def lenet(num_classes):\n",
    "    import mxnet as mx\n",
    "    data = mx.symbol.Variable('data')\n",
    "    # first conv\n",
    "    conv1 = mx.symbol.Convolution(data=data, kernel=(5,5), num_filter=20)\n",
    "    tanh1 = mx.symbol.Activation(data=conv1, act_type=\"tanh\")\n",
    "    pool1 = mx.symbol.Pooling(data=tanh1, pool_type=\"max\", kernel=(2,2), stride=(2,2))\n",
    "    # second conv\n",
    "    conv2 = mx.symbol.Convolution(data=pool1, kernel=(5,5), num_filter=50)\n",
    "    tanh2 = mx.symbol.Activation(data=conv2, act_type=\"tanh\")\n",
    "    pool2 = mx.symbol.Pooling(data=tanh2, pool_type=\"max\", kernel=(2,2), stride=(2,2))\n",
    "    # first fullc\n",
    "    flatten = mx.symbol.Flatten(data=pool2)\n",
    "    fc1 = mx.symbol.FullyConnected(data=flatten, num_hidden=500)\n",
    "    tanh3 = mx.symbol.Activation(data=fc1, act_type=\"tanh\")\n",
    "    # second fullc\n",
    "    fc2 = mx.symbol.FullyConnected(data=tanh3, num_hidden=num_classes)\n",
    "    # loss\n",
    "    lenet = mx.symbol.SoftmaxOutput(data=fc2, name='softmax')\n",
    "    return lenet"
   ]
  },
  {
   "cell_type": "markdown",
   "metadata": {},
   "source": [
    "## DeepWater for MXNET\n",
    "\n",
    "We can use the import functions provided by h2o to import the list of "
   ]
  },
  {
   "cell_type": "code",
   "execution_count": 4,
   "metadata": {
    "collapsed": false
   },
   "outputs": [
    {
     "name": "stdout",
     "output_type": "stream",
     "text": [
      "Parse progress: |█████████████████████████████████████████████████████████████████████████████| 100%\n",
      "Parse progress: |█████████████████████████████████████████████████████████████████████████████| 100%\n"
     ]
    }
   ],
   "source": [
    "train = h2o.import_file(\"../../bigdata/laptop/mnist/train.csv.gz\")\n",
    "test = h2o.import_file(\"../../bigdata/laptop/mnist/test.csv.gz\")\n",
    "\n",
    "predictors = list(range(0,784))\n",
    "resp = 784\n",
    "train[resp] = train[resp].asfactor()\n",
    "test[resp] = test[resp].asfactor()\n",
    "nclasses = train[resp].nlevels()[0]"
   ]
  },
  {
   "cell_type": "markdown",
   "metadata": {},
   "source": [
    "Let's create the lenet model architecture from scratch using the MXNet Python API"
   ]
  },
  {
   "cell_type": "code",
   "execution_count": 5,
   "metadata": {
    "collapsed": false
   },
   "outputs": [],
   "source": [
    "model = lenet(nclasses)"
   ]
  },
  {
   "cell_type": "markdown",
   "metadata": {},
   "source": [
    "To import the model inside the DeepWater training engine we need to save the model to a file:"
   ]
  },
  {
   "cell_type": "code",
   "execution_count": 6,
   "metadata": {
    "collapsed": true
   },
   "outputs": [],
   "source": [
    "model_path = \"/tmp/symbol_lenet-py.json\"\n",
    "model.save(model_path)"
   ]
  },
  {
   "cell_type": "markdown",
   "metadata": {},
   "source": [
    "The model is just the structure of the network expressed as a json dict"
   ]
  },
  {
   "cell_type": "code",
   "execution_count": 7,
   "metadata": {
    "collapsed": false
   },
   "outputs": [
    {
     "name": "stdout",
     "output_type": "stream",
     "text": [
      "{\r\n",
      "  \"nodes\": [\r\n",
      "    {\r\n",
      "      \"op\": \"null\", \r\n",
      "      \"param\": {}, \r\n",
      "      \"name\": \"data\", \r\n",
      "      \"inputs\": [], \r\n",
      "      \"backward_source_id\": -1\r\n",
      "    }, \r\n",
      "    {\r\n"
     ]
    }
   ],
   "source": [
    "!head \"/tmp/symbol_lenet-py.json\""
   ]
  },
  {
   "cell_type": "markdown",
   "metadata": {},
   "source": [
    "## Importing the LeNET model architecture for training in H2O\n",
    "\n",
    "We have defined the model and saved the structure to a file. We are ready to start the training procedure."
   ]
  },
  {
   "cell_type": "code",
   "execution_count": 8,
   "metadata": {
    "collapsed": false
   },
   "outputs": [],
   "source": [
    "model = H2ODeepWaterEstimator(epochs=100, learning_rate=1e-3, \n",
    "                              mini_batch_size=64,\n",
    "                              network='user', \n",
    "                              network_definition_file=model_path,\n",
    "                              image_shape=[28,28], channels=1)"
   ]
  },
  {
   "cell_type": "code",
   "execution_count": 9,
   "metadata": {
    "collapsed": false,
    "scrolled": true
   },
   "outputs": [
    {
     "name": "stdout",
     "output_type": "stream",
     "text": [
      "deepwater Model Build progress: |█████████████████████████████████████████████████████████████| 100%\n"
     ]
    }
   ],
   "source": [
    "model.train(x=predictors,y=resp, training_frame=train, validation_frame=test)"
   ]
  },
  {
   "cell_type": "code",
   "execution_count": 10,
   "metadata": {
    "collapsed": false
   },
   "outputs": [
    {
     "name": "stdout",
     "output_type": "stream",
     "text": [
      "Model Details\n",
      "=============\n",
      "H2ODeepWaterEstimator :  Deep Water\n",
      "Model Key:  DeepWater_model_python_1475999056235_1\n",
      "Status of Deep Learning Model: user: 1.6 MB, predicting C785, 10-class classification, 5,165,056 training samples, mini-batch size 64\n",
      "\n"
     ]
    },
    {
     "data": {
      "text/html": [
       "<div style=\"overflow:auto\"><table style=\"width:50%\"><tr><td><b></b></td>\n",
       "<td><b>rate</b></td>\n",
       "<td><b>momentum</b></td></tr>\n",
       "<tr><td></td>\n",
       "<td>0.0001622</td>\n",
       "<td>0.99</td></tr></table></div>"
      ],
      "text/plain": [
       "    rate         momentum\n",
       "--  -----------  ----------\n",
       "    0.000162205  0.99"
      ]
     },
     "metadata": {},
     "output_type": "display_data"
    },
    {
     "name": "stdout",
     "output_type": "stream",
     "text": [
      "\n",
      "\n",
      "ModelMetricsMultinomial: deepwater\n",
      "** Reported on train data. **\n",
      "\n",
      "MSE: 0.00483862036448\n",
      "RMSE: 0.0695601923839\n",
      "LogLoss: 0.021180403921\n",
      "Mean Per-Class Error: 0.00382060051535\n",
      "Confusion Matrix: vertical: actual; across: predicted\n",
      "\n"
     ]
    },
    {
     "data": {
      "text/html": [
       "<div style=\"overflow:auto\"><table style=\"width:50%\"><tr><td><b>0</b></td>\n",
       "<td><b>1</b></td>\n",
       "<td><b>2</b></td>\n",
       "<td><b>3</b></td>\n",
       "<td><b>4</b></td>\n",
       "<td><b>5</b></td>\n",
       "<td><b>6</b></td>\n",
       "<td><b>7</b></td>\n",
       "<td><b>8</b></td>\n",
       "<td><b>9</b></td>\n",
       "<td><b>Error</b></td>\n",
       "<td><b>Rate</b></td></tr>\n",
       "<tr><td>133137663984000000.0000000</td>\n",
       "<td>0.0</td>\n",
       "<td>0.0</td>\n",
       "<td>0.0</td>\n",
       "<td>0.0</td>\n",
       "<td>0.0</td>\n",
       "<td>140737488355000.0000000</td>\n",
       "<td>0.0</td>\n",
       "<td>0.0</td>\n",
       "<td>0.0</td>\n",
       "<td>0.0010560</td>\n",
       "<td>140,737,488,355,328 / 133,278,401,472,495,616</td></tr>\n",
       "<tr><td>140737488355000.0000000</td>\n",
       "<td>161285161655000000.0000000</td>\n",
       "<td>140737488355000.0000000</td>\n",
       "<td>0.0</td>\n",
       "<td>0.0</td>\n",
       "<td>0.0</td>\n",
       "<td>0.0</td>\n",
       "<td>281474976711000.0000000</td>\n",
       "<td>140737488355000.0000000</td>\n",
       "<td>0.0</td>\n",
       "<td>0.0043440</td>\n",
       "<td>703,687,441,776,640 / 161,988,849,096,982,528</td></tr>\n",
       "<tr><td>140737488355000.0000000</td>\n",
       "<td>0.0</td>\n",
       "<td>141159700820000000.0000000</td>\n",
       "<td>0.0</td>\n",
       "<td>0.0</td>\n",
       "<td>0.0</td>\n",
       "<td>0.0</td>\n",
       "<td>140737488355000.0000000</td>\n",
       "<td>0.0</td>\n",
       "<td>0.0</td>\n",
       "<td>0.0019900</td>\n",
       "<td>281,474,976,710,656 / 141,441,175,797,104,640</td></tr>\n",
       "<tr><td>0.0</td>\n",
       "<td>0.0</td>\n",
       "<td>140737488355000.0000000</td>\n",
       "<td>143411500634000000.0000000</td>\n",
       "<td>0.0</td>\n",
       "<td>0.0</td>\n",
       "<td>0.0</td>\n",
       "<td>281474976711000.0000000</td>\n",
       "<td>140737488355000.0000000</td>\n",
       "<td>281474976711000.0000000</td>\n",
       "<td>0.0058537</td>\n",
       "<td>844,424,930,131,968 / 144,255,925,564,211,200</td></tr>\n",
       "<tr><td>0.0</td>\n",
       "<td>0.0</td>\n",
       "<td>0.0</td>\n",
       "<td>0.0</td>\n",
       "<td>135811676263000000.0000000</td>\n",
       "<td>0.0</td>\n",
       "<td>0.0</td>\n",
       "<td>0.0</td>\n",
       "<td>0.0</td>\n",
       "<td>422212465066000.0000000</td>\n",
       "<td>0.0030992</td>\n",
       "<td>422,212,465,065,984 / 136,233,888,727,957,504</td></tr>\n",
       "<tr><td>140737488355000.0000000</td>\n",
       "<td>0.0</td>\n",
       "<td>0.0</td>\n",
       "<td>281474976711000.0000000</td>\n",
       "<td>0.0</td>\n",
       "<td>124552677194000000.0000000</td>\n",
       "<td>0.0</td>\n",
       "<td>0.0</td>\n",
       "<td>0.0</td>\n",
       "<td>0.0</td>\n",
       "<td>0.0033784</td>\n",
       "<td>422,212,465,065,984 / 124,974,889,659,531,264</td></tr>\n",
       "<tr><td>140737488355000.0000000</td>\n",
       "<td>0.0</td>\n",
       "<td>0.0</td>\n",
       "<td>0.0</td>\n",
       "<td>0.0</td>\n",
       "<td>0.0</td>\n",
       "<td>140737488355000000.0000000</td>\n",
       "<td>0.0</td>\n",
       "<td>140737488355000.0000000</td>\n",
       "<td>0.0</td>\n",
       "<td>0.0019960</td>\n",
       "<td>281,474,976,710,656 / 141,018,963,332,038,656</td></tr>\n",
       "<tr><td>140737488355000.0000000</td>\n",
       "<td>140737488355000.0000000</td>\n",
       "<td>281474976711000.0000000</td>\n",
       "<td>0.0</td>\n",
       "<td>140737488355000.0000000</td>\n",
       "<td>0.0</td>\n",
       "<td>0.0</td>\n",
       "<td>139048638495000000.0000000</td>\n",
       "<td>0.0</td>\n",
       "<td>0.0</td>\n",
       "<td>0.0050352</td>\n",
       "<td>703,687,441,776,640 / 139,752,325,936,840,704</td></tr>\n",
       "<tr><td>0.0</td>\n",
       "<td>140737488355000.0000000</td>\n",
       "<td>0.0</td>\n",
       "<td>140737488355000.0000000</td>\n",
       "<td>0.0</td>\n",
       "<td>0.0</td>\n",
       "<td>0.0</td>\n",
       "<td>0.0</td>\n",
       "<td>147915100261000000.0000000</td>\n",
       "<td>0.0</td>\n",
       "<td>0.0018993</td>\n",
       "<td>281,474,976,710,656 / 148,196,575,238,160,384</td></tr>\n",
       "<tr><td>281474976711000.0000000</td>\n",
       "<td>140737488355000.0000000</td>\n",
       "<td>0.0</td>\n",
       "<td>0.0</td>\n",
       "<td>281474976711000.0000000</td>\n",
       "<td>140737488355000.0000000</td>\n",
       "<td>0.0</td>\n",
       "<td>281474976711000.0000000</td>\n",
       "<td>140737488355000.0000000</td>\n",
       "<td>131308076636000000.0000000</td>\n",
       "<td>0.0095541</td>\n",
       "<td>1,266,637,395,197,952 / 132,574,714,030,718,976</td></tr>\n",
       "<tr><td>134122826403000000.0000000</td>\n",
       "<td>161707374120000000.0000000</td>\n",
       "<td>141722650774000000.0000000</td>\n",
       "<td>143833713099000000.0000000</td>\n",
       "<td>136233888728000000.0000000</td>\n",
       "<td>124693414683000000.0000000</td>\n",
       "<td>140878225844000000.0000000</td>\n",
       "<td>140033800914000000.0000000</td>\n",
       "<td>148478050215000000.0000000</td>\n",
       "<td>132011764077000000.0000000</td>\n",
       "<td>0.0038099</td>\n",
       "<td>5,348,024,557,502,464 / 1,403,715,708,856,041,472</td></tr></table></div>"
      ],
      "text/plain": [
       "0            1            2            3            4            5            6            7            8            9            Error       Rate\n",
       "-----------  -----------  -----------  -----------  -----------  -----------  -----------  -----------  -----------  -----------  ----------  -------------------------------------------------\n",
       "1.33138e+17  0            0            0            0            0            1.40737e+14  0            0            0            0.00105597  140,737,488,355,328 / 133,278,401,472,495,616\n",
       "1.40737e+14  1.61285e+17  1.40737e+14  0            0            0            0            2.81475e+14  1.40737e+14  0            0.00434405  703,687,441,776,640 / 161,988,849,096,982,528\n",
       "1.40737e+14  0            1.4116e+17   0            0            0            0            1.40737e+14  0            0            0.00199005  281,474,976,710,656 / 141,441,175,797,104,640\n",
       "0            0            1.40737e+14  1.43412e+17  0            0            0            2.81475e+14  1.40737e+14  2.81475e+14  0.00585366  844,424,930,131,968 / 144,255,925,564,211,200\n",
       "0            0            0            0            1.35812e+17  0            0            0            0            4.22212e+14  0.00309917  422,212,465,065,984 / 136,233,888,727,957,504\n",
       "1.40737e+14  0            0            2.81475e+14  0            1.24553e+17  0            0            0            0            0.00337838  422,212,465,065,984 / 124,974,889,659,531,264\n",
       "1.40737e+14  0            0            0            0            0            1.40737e+17  0            1.40737e+14  0            0.00199601  281,474,976,710,656 / 141,018,963,332,038,656\n",
       "1.40737e+14  1.40737e+14  2.81475e+14  0            1.40737e+14  0            0            1.39049e+17  0            0            0.00503525  703,687,441,776,640 / 139,752,325,936,840,704\n",
       "0            1.40737e+14  0            1.40737e+14  0            0            0            0            1.47915e+17  0            0.00189934  281,474,976,710,656 / 148,196,575,238,160,384\n",
       "2.81475e+14  1.40737e+14  0            0            2.81475e+14  1.40737e+14  0            2.81475e+14  1.40737e+14  1.31308e+17  0.00955414  1,266,637,395,197,952 / 132,574,714,030,718,976\n",
       "1.34123e+17  1.61707e+17  1.41723e+17  1.43834e+17  1.36234e+17  1.24693e+17  1.40878e+17  1.40034e+17  1.48478e+17  1.32012e+17  0.00380991  5,348,024,557,502,464 / 1,403,715,708,856,041,472"
      ]
     },
     "metadata": {},
     "output_type": "display_data"
    },
    {
     "name": "stdout",
     "output_type": "stream",
     "text": [
      "Top-10 Hit Ratios: \n"
     ]
    },
    {
     "data": {
      "text/html": [
       "<div style=\"overflow:auto\"><table style=\"width:50%\"><tr><td><b>k</b></td>\n",
       "<td><b>hit_ratio</b></td></tr>\n",
       "<tr><td>1</td>\n",
       "<td>0.9961901</td></tr>\n",
       "<tr><td>2</td>\n",
       "<td>0.9991979</td></tr>\n",
       "<tr><td>3</td>\n",
       "<td>0.9996992</td></tr>\n",
       "<tr><td>4</td>\n",
       "<td>0.9998997</td></tr>\n",
       "<tr><td>5</td>\n",
       "<td>0.9999999</td></tr>\n",
       "<tr><td>6</td>\n",
       "<td>0.9999999</td></tr>\n",
       "<tr><td>7</td>\n",
       "<td>0.9999999</td></tr>\n",
       "<tr><td>8</td>\n",
       "<td>0.9999999</td></tr>\n",
       "<tr><td>9</td>\n",
       "<td>0.9999999</td></tr>\n",
       "<tr><td>10</td>\n",
       "<td>0.9999999</td></tr></table></div>"
      ],
      "text/plain": [
       "k    hit_ratio\n",
       "---  -----------\n",
       "1    0.99619\n",
       "2    0.999198\n",
       "3    0.999699\n",
       "4    0.9999\n",
       "5    1\n",
       "6    1\n",
       "7    1\n",
       "8    1\n",
       "9    1\n",
       "10   1"
      ]
     },
     "metadata": {},
     "output_type": "display_data"
    },
    {
     "name": "stdout",
     "output_type": "stream",
     "text": [
      "\n",
      "ModelMetricsMultinomial: deepwater\n",
      "** Reported on validation data. **\n",
      "\n",
      "MSE: 0.0133443728415\n",
      "RMSE: 0.11551784642\n",
      "LogLoss: 0.0470609828367\n",
      "Mean Per-Class Error: 0.0147789677145\n",
      "Confusion Matrix: vertical: actual; across: predicted\n",
      "\n"
     ]
    },
    {
     "data": {
      "text/html": [
       "<div style=\"overflow:auto\"><table style=\"width:50%\"><tr><td><b>0</b></td>\n",
       "<td><b>1</b></td>\n",
       "<td><b>2</b></td>\n",
       "<td><b>3</b></td>\n",
       "<td><b>4</b></td>\n",
       "<td><b>5</b></td>\n",
       "<td><b>6</b></td>\n",
       "<td><b>7</b></td>\n",
       "<td><b>8</b></td>\n",
       "<td><b>9</b></td>\n",
       "<td><b>Error</b></td>\n",
       "<td><b>Rate</b></td></tr>\n",
       "<tr><td>137219051146000000.0000000</td>\n",
       "<td>0.0</td>\n",
       "<td>0.0</td>\n",
       "<td>0.0</td>\n",
       "<td>0.0</td>\n",
       "<td>0.0</td>\n",
       "<td>140737488355000.0000000</td>\n",
       "<td>140737488355000.0000000</td>\n",
       "<td>422212465066000.0000000</td>\n",
       "<td>0.0</td>\n",
       "<td>0.0051020</td>\n",
       "<td>703,687,441,776,640 / 137,922,738,588,221,440</td></tr>\n",
       "<tr><td>0.0</td>\n",
       "<td>159033361842000000.0000000</td>\n",
       "<td>281474976711000.0000000</td>\n",
       "<td>0.0</td>\n",
       "<td>0.0</td>\n",
       "<td>140737488355000.0000000</td>\n",
       "<td>140737488355000.0000000</td>\n",
       "<td>140737488355000.0000000</td>\n",
       "<td>0.0</td>\n",
       "<td>0.0</td>\n",
       "<td>0.0044053</td>\n",
       "<td>703,687,441,776,640 / 159,737,049,283,297,280</td></tr>\n",
       "<tr><td>140737488355000.0000000</td>\n",
       "<td>281474976711000.0000000</td>\n",
       "<td>142989288169000000.0000000</td>\n",
       "<td>140737488355000.0000000</td>\n",
       "<td>422212465066000.0000000</td>\n",
       "<td>0.0</td>\n",
       "<td>140737488355000.0000000</td>\n",
       "<td>562949953421000.0000000</td>\n",
       "<td>562949953421000.0000000</td>\n",
       "<td>0.0</td>\n",
       "<td>0.0155039</td>\n",
       "<td>2,251,799,813,685,248 / 145,241,087,982,698,496</td></tr>\n",
       "<tr><td>140737488355000.0000000</td>\n",
       "<td>0.0</td>\n",
       "<td>281474976711000.0000000</td>\n",
       "<td>140315275890000000.0000000</td>\n",
       "<td>0.0</td>\n",
       "<td>562949953421000.0000000</td>\n",
       "<td>0.0</td>\n",
       "<td>140737488355000.0000000</td>\n",
       "<td>140737488355000.0000000</td>\n",
       "<td>562949953421000.0000000</td>\n",
       "<td>0.0128713</td>\n",
       "<td>1,829,587,348,619,264 / 142,144,863,238,881,280</td></tr>\n",
       "<tr><td>140737488355000.0000000</td>\n",
       "<td>0.0</td>\n",
       "<td>140737488355000.0000000</td>\n",
       "<td>0.0</td>\n",
       "<td>136093151240000000.0000000</td>\n",
       "<td>0.0</td>\n",
       "<td>422212465066000.0000000</td>\n",
       "<td>140737488355000.0000000</td>\n",
       "<td>140737488355000.0000000</td>\n",
       "<td>1125899906840000.0000000</td>\n",
       "<td>0.0152749</td>\n",
       "<td>2,111,062,325,329,920 / 138,204,213,564,932,096</td></tr>\n",
       "<tr><td>281474976711000.0000000</td>\n",
       "<td>0.0</td>\n",
       "<td>0.0</td>\n",
       "<td>703687441777000.0000000</td>\n",
       "<td>0.0</td>\n",
       "<td>123989727241000000.0000000</td>\n",
       "<td>140737488355000.0000000</td>\n",
       "<td>140737488355000.0000000</td>\n",
       "<td>140737488355000.0000000</td>\n",
       "<td>140737488355000.0000000</td>\n",
       "<td>0.0123318</td>\n",
       "<td>1,548,112,371,908,608 / 125,537,839,612,952,576</td></tr>\n",
       "<tr><td>562949953421000.0000000</td>\n",
       "<td>281474976711000.0000000</td>\n",
       "<td>0.0</td>\n",
       "<td>140737488355000.0000000</td>\n",
       "<td>281474976711000.0000000</td>\n",
       "<td>422212465066000.0000000</td>\n",
       "<td>132996926496000000.0000000</td>\n",
       "<td>0.0</td>\n",
       "<td>140737488355000.0000000</td>\n",
       "<td>0.0</td>\n",
       "<td>0.0135699</td>\n",
       "<td>1,829,587,348,619,264 / 134,826,513,844,404,224</td></tr>\n",
       "<tr><td>0.0</td>\n",
       "<td>281474976711000.0000000</td>\n",
       "<td>1125899906840000.0000000</td>\n",
       "<td>422212465066000.0000000</td>\n",
       "<td>140737488355000.0000000</td>\n",
       "<td>0.0</td>\n",
       "<td>0.0</td>\n",
       "<td>141863388262000000.0000000</td>\n",
       "<td>281474976711000.0000000</td>\n",
       "<td>562949953421000.0000000</td>\n",
       "<td>0.0194553</td>\n",
       "<td>2,814,749,767,106,560 / 144,678,138,029,277,184</td></tr>\n",
       "<tr><td>703687441777000.0000000</td>\n",
       "<td>0.0</td>\n",
       "<td>281474976711000.0000000</td>\n",
       "<td>562949953421000.0000000</td>\n",
       "<td>281474976711000.0000000</td>\n",
       "<td>281474976711000.0000000</td>\n",
       "<td>281474976711000.0000000</td>\n",
       "<td>281474976711000.0000000</td>\n",
       "<td>134263563891000000.0000000</td>\n",
       "<td>140737488355000.0000000</td>\n",
       "<td>0.0205339</td>\n",
       "<td>2,814,749,767,106,560 / 137,078,313,658,089,472</td></tr>\n",
       "<tr><td>422212465066000.0000000</td>\n",
       "<td>562949953421000.0000000</td>\n",
       "<td>140737488355000.0000000</td>\n",
       "<td>281474976711000.0000000</td>\n",
       "<td>1266637395200000.0000000</td>\n",
       "<td>281474976711000.0000000</td>\n",
       "<td>0.0</td>\n",
       "<td>985162418487000.0000000</td>\n",
       "<td>140737488355000.0000000</td>\n",
       "<td>137922738588000000.0000000</td>\n",
       "<td>0.0287413</td>\n",
       "<td>4,081,387,162,304,512 / 142,004,125,750,525,952</td></tr>\n",
       "<tr><td>139611588448000000.0000000</td>\n",
       "<td>160440736725000000.0000000</td>\n",
       "<td>145241087983000000.0000000</td>\n",
       "<td>142567075704000000.0000000</td>\n",
       "<td>138485688542000000.0000000</td>\n",
       "<td>125678577101000000.0000000</td>\n",
       "<td>134263563891000000.0000000</td>\n",
       "<td>144396663053000000.0000000</td>\n",
       "<td>136233888728000000.0000000</td>\n",
       "<td>140456013379000000.0000000</td>\n",
       "<td>0.0147</td>\n",
       "<td>20,688,410,788,233,216 / 1,407,374,883,553,280,000</td></tr></table></div>"
      ],
      "text/plain": [
       "0            1            2            3            4            5            6            7            8            9            Error       Rate\n",
       "-----------  -----------  -----------  -----------  -----------  -----------  -----------  -----------  -----------  -----------  ----------  --------------------------------------------------\n",
       "1.37219e+17  0            0            0            0            0            1.40737e+14  1.40737e+14  4.22212e+14  0            0.00510204  703,687,441,776,640 / 137,922,738,588,221,440\n",
       "0            1.59033e+17  2.81475e+14  0            0            1.40737e+14  1.40737e+14  1.40737e+14  0            0            0.00440529  703,687,441,776,640 / 159,737,049,283,297,280\n",
       "1.40737e+14  2.81475e+14  1.42989e+17  1.40737e+14  4.22212e+14  0            1.40737e+14  5.6295e+14   5.6295e+14   0            0.0155039   2,251,799,813,685,248 / 145,241,087,982,698,496\n",
       "1.40737e+14  0            2.81475e+14  1.40315e+17  0            5.6295e+14   0            1.40737e+14  1.40737e+14  5.6295e+14   0.0128713   1,829,587,348,619,264 / 142,144,863,238,881,280\n",
       "1.40737e+14  0            1.40737e+14  0            1.36093e+17  0            4.22212e+14  1.40737e+14  1.40737e+14  1.1259e+15   0.0152749   2,111,062,325,329,920 / 138,204,213,564,932,096\n",
       "2.81475e+14  0            0            7.03687e+14  0            1.2399e+17   1.40737e+14  1.40737e+14  1.40737e+14  1.40737e+14  0.0123318   1,548,112,371,908,608 / 125,537,839,612,952,576\n",
       "5.6295e+14   2.81475e+14  0            1.40737e+14  2.81475e+14  4.22212e+14  1.32997e+17  0            1.40737e+14  0            0.0135699   1,829,587,348,619,264 / 134,826,513,844,404,224\n",
       "0            2.81475e+14  1.1259e+15   4.22212e+14  1.40737e+14  0            0            1.41863e+17  2.81475e+14  5.6295e+14   0.0194553   2,814,749,767,106,560 / 144,678,138,029,277,184\n",
       "7.03687e+14  0            2.81475e+14  5.6295e+14   2.81475e+14  2.81475e+14  2.81475e+14  2.81475e+14  1.34264e+17  1.40737e+14  0.0205339   2,814,749,767,106,560 / 137,078,313,658,089,472\n",
       "4.22212e+14  5.6295e+14   1.40737e+14  2.81475e+14  1.26664e+15  2.81475e+14  0            9.85162e+14  1.40737e+14  1.37923e+17  0.0287413   4,081,387,162,304,512 / 142,004,125,750,525,952\n",
       "1.39612e+17  1.60441e+17  1.45241e+17  1.42567e+17  1.38486e+17  1.25679e+17  1.34264e+17  1.44397e+17  1.36234e+17  1.40456e+17  0.0147      20,688,410,788,233,216 / 1,407,374,883,553,280,000"
      ]
     },
     "metadata": {},
     "output_type": "display_data"
    },
    {
     "name": "stdout",
     "output_type": "stream",
     "text": [
      "Top-10 Hit Ratios: \n"
     ]
    },
    {
     "data": {
      "text/html": [
       "<div style=\"overflow:auto\"><table style=\"width:50%\"><tr><td><b>k</b></td>\n",
       "<td><b>hit_ratio</b></td></tr>\n",
       "<tr><td>1</td>\n",
       "<td>0.9853</td></tr>\n",
       "<tr><td>2</td>\n",
       "<td>0.9967</td></tr>\n",
       "<tr><td>3</td>\n",
       "<td>0.9993</td></tr>\n",
       "<tr><td>4</td>\n",
       "<td>0.9998</td></tr>\n",
       "<tr><td>5</td>\n",
       "<td>0.9999000</td></tr>\n",
       "<tr><td>6</td>\n",
       "<td>1.0</td></tr>\n",
       "<tr><td>7</td>\n",
       "<td>1.0</td></tr>\n",
       "<tr><td>8</td>\n",
       "<td>1.0</td></tr>\n",
       "<tr><td>9</td>\n",
       "<td>1.0</td></tr>\n",
       "<tr><td>10</td>\n",
       "<td>1.0</td></tr></table></div>"
      ],
      "text/plain": [
       "k    hit_ratio\n",
       "---  -----------\n",
       "1    0.9853\n",
       "2    0.9967\n",
       "3    0.9993\n",
       "4    0.9998\n",
       "5    0.9999\n",
       "6    1\n",
       "7    1\n",
       "8    1\n",
       "9    1\n",
       "10   1"
      ]
     },
     "metadata": {},
     "output_type": "display_data"
    },
    {
     "name": "stdout",
     "output_type": "stream",
     "text": [
      "Scoring History: \n"
     ]
    },
    {
     "data": {
      "text/html": [
       "<div style=\"overflow:auto\"><table style=\"width:50%\"><tr><td><b></b></td>\n",
       "<td><b>timestamp</b></td>\n",
       "<td><b>duration</b></td>\n",
       "<td><b>training_speed</b></td>\n",
       "<td><b>epochs</b></td>\n",
       "<td><b>iterations</b></td>\n",
       "<td><b>samples</b></td>\n",
       "<td><b>training_rmse</b></td>\n",
       "<td><b>training_logloss</b></td>\n",
       "<td><b>training_classification_error</b></td>\n",
       "<td><b>validation_rmse</b></td>\n",
       "<td><b>validation_logloss</b></td>\n",
       "<td><b>validation_classification_error</b></td></tr>\n",
       "<tr><td></td>\n",
       "<td>2016-10-09 00:44:24</td>\n",
       "<td> 0.000 sec</td>\n",
       "<td>None</td>\n",
       "<td>0.0</td>\n",
       "<td>0</td>\n",
       "<td>0.0</td>\n",
       "<td>nan</td>\n",
       "<td>nan</td>\n",
       "<td>nan</td>\n",
       "<td>nan</td>\n",
       "<td>nan</td>\n",
       "<td>nan</td></tr>\n",
       "<tr><td></td>\n",
       "<td>2016-10-09 00:44:25</td>\n",
       "<td> 3.211 sec</td>\n",
       "<td>6005 obs/sec</td>\n",
       "<td>0.0341333</td>\n",
       "<td>1</td>\n",
       "<td>2048.0</td>\n",
       "<td>0.6863949</td>\n",
       "<td>1.2820884</td>\n",
       "<td>0.3610387</td>\n",
       "<td>0.6828730</td>\n",
       "<td>1.2682603</td>\n",
       "<td>0.3221381</td></tr>\n",
       "<tr><td></td>\n",
       "<td>2016-10-09 00:44:40</td>\n",
       "<td>17.923 sec</td>\n",
       "<td>22445 obs/sec</td>\n",
       "<td>5.3589333</td>\n",
       "<td>157</td>\n",
       "<td>321536.0</td>\n",
       "<td>0.1261795</td>\n",
       "<td>0.2385204</td>\n",
       "<td>0.0252002</td>\n",
       "<td>0.1658834</td>\n",
       "<td>0.1000103</td>\n",
       "<td>0.0299448</td></tr>\n",
       "<tr><td></td>\n",
       "<td>2016-10-09 00:44:48</td>\n",
       "<td>25.321 sec</td>\n",
       "<td>23261 obs/sec</td>\n",
       "<td>8.1237333</td>\n",
       "<td>238</td>\n",
       "<td>487424.0</td>\n",
       "<td>0.1353207</td>\n",
       "<td>0.0699119</td>\n",
       "<td>0.0194506</td>\n",
       "<td>0.1511284</td>\n",
       "<td>0.0828505</td>\n",
       "<td>0.0235852</td></tr>\n",
       "<tr><td></td>\n",
       "<td>2016-10-09 00:44:56</td>\n",
       "<td>32.962 sec</td>\n",
       "<td>25293 obs/sec</td>\n",
       "<td>11.776</td>\n",
       "<td>345</td>\n",
       "<td>706560.0</td>\n",
       "<td>0.1192561</td>\n",
       "<td>0.0553768</td>\n",
       "<td>0.0141368</td>\n",
       "<td>0.1402123</td>\n",
       "<td>0.0710302</td>\n",
       "<td>0.0209124</td></tr>\n",
       "<tr><td>---</td>\n",
       "<td>---</td>\n",
       "<td>---</td>\n",
       "<td>---</td>\n",
       "<td>---</td>\n",
       "<td>---</td>\n",
       "<td>---</td>\n",
       "<td>---</td>\n",
       "<td>---</td>\n",
       "<td>---</td>\n",
       "<td>---</td>\n",
       "<td>---</td>\n",
       "<td>---</td></tr>\n",
       "<tr><td></td>\n",
       "<td>2016-10-09 00:47:14</td>\n",
       "<td> 2 min 51.614 sec</td>\n",
       "<td>30209 obs/sec</td>\n",
       "<td>76.9365333</td>\n",
       "<td>2254</td>\n",
       "<td>4616192.0</td>\n",
       "<td>0.0620064</td>\n",
       "<td>0.0176156</td>\n",
       "<td>0.0030078</td>\n",
       "<td>0.1126842</td>\n",
       "<td>0.0448258</td>\n",
       "<td>0.0138507</td></tr>\n",
       "<tr><td></td>\n",
       "<td>2016-10-09 00:47:21</td>\n",
       "<td> 2 min 58.437 sec</td>\n",
       "<td>30227 obs/sec</td>\n",
       "<td>80.0426667</td>\n",
       "<td>2345</td>\n",
       "<td>4802560.0</td>\n",
       "<td>0.0607476</td>\n",
       "<td>0.0169945</td>\n",
       "<td>0.0029076</td>\n",
       "<td>0.1124622</td>\n",
       "<td>0.0447294</td>\n",
       "<td>0.0137238</td></tr>\n",
       "<tr><td></td>\n",
       "<td>2016-10-09 00:47:28</td>\n",
       "<td> 3 min  5.914 sec</td>\n",
       "<td>30213 obs/sec</td>\n",
       "<td>83.4218667</td>\n",
       "<td>2444</td>\n",
       "<td>5005312.0</td>\n",
       "<td>0.0601931</td>\n",
       "<td>0.0166959</td>\n",
       "<td>0.0029076</td>\n",
       "<td>0.1122255</td>\n",
       "<td>0.0889484</td>\n",
       "<td>0.0138</td></tr>\n",
       "<tr><td></td>\n",
       "<td>2016-10-09 00:47:35</td>\n",
       "<td> 3 min 12.937 sec</td>\n",
       "<td>30036 obs/sec</td>\n",
       "<td>86.0842667</td>\n",
       "<td>2522</td>\n",
       "<td>5165056.0</td>\n",
       "<td>0.0590891</td>\n",
       "<td>0.0162206</td>\n",
       "<td>0.0028073</td>\n",
       "<td>0.1119555</td>\n",
       "<td>0.0443369</td>\n",
       "<td>0.0137</td></tr>\n",
       "<tr><td></td>\n",
       "<td>2016-10-09 00:47:36</td>\n",
       "<td> 3 min 13.688 sec</td>\n",
       "<td>30033 obs/sec</td>\n",
       "<td>86.0842667</td>\n",
       "<td>2522</td>\n",
       "<td>5165056.0</td>\n",
       "<td>0.0695602</td>\n",
       "<td>0.0211804</td>\n",
       "<td>0.0038099</td>\n",
       "<td>0.1155178</td>\n",
       "<td>0.0470610</td>\n",
       "<td>0.0147</td></tr></table></div>"
      ],
      "text/plain": [
       "     timestamp            duration          training_speed    epochs           iterations    samples    training_rmse    training_logloss    training_classification_error    validation_rmse    validation_logloss    validation_classification_error\n",
       "---  -------------------  ----------------  ----------------  ---------------  ------------  ---------  ---------------  ------------------  -------------------------------  -----------------  --------------------  ---------------------------------\n",
       "     2016-10-09 00:44:24  0.000 sec                           0.0              0             0.0        nan              nan                 nan                              nan                nan                   nan\n",
       "     2016-10-09 00:44:25  3.211 sec         6005 obs/sec      0.0341333333333  1             2048.0     0.686394869859   1.28208837048       0.361038700622                   0.682872957999     1.26826028834         0.32213805482\n",
       "     2016-10-09 00:44:40  17.923 sec        22445 obs/sec     5.35893333333    157           321536.0   0.126179527138   0.2385203649        0.0252002016016                  0.165883350413     0.100010340304        0.0299448384555\n",
       "     2016-10-09 00:44:48  25.321 sec        23261 obs/sec     8.12373333333    238           487424.0   0.135320703034   0.0699118661404     0.0194505714859                  0.151128422386     0.082850528012        0.0235851539879\n",
       "     2016-10-09 00:44:56  32.962 sec        25293 obs/sec     11.776           345           706560.0   0.119256121579   0.0553768003833     0.0141367555645                  0.140212251368     0.07103021546         0.0209123526397\n",
       "---  ---                  ---               ---               ---              ---           ---        ---              ---                 ---                              ---                ---                   ---\n",
       "     2016-10-09 00:47:14  2 min 51.614 sec  30209 obs/sec     76.9365333333    2254          4616192.0  0.0620063769259  0.0176155607504     0.00300782033287                 0.112684179493     0.0448257960855       0.0138506925346\n",
       "     2016-10-09 00:47:21  2 min 58.437 sec  30227 obs/sec     80.0426666667    2345          4802560.0  0.0607475832463  0.0169945381082     0.0029075596551                  0.112462208433     0.0447294389872       0.0137238405721\n",
       "     2016-10-09 00:47:28  3 min  5.914 sec  30213 obs/sec     83.4218666667    2444          5005312.0  0.0601931254282  0.0166959264929     0.0029075596551                  0.112225507323     0.0889484475782       0.0138\n",
       "     2016-10-09 00:47:35  3 min 12.937 sec  30036 obs/sec     86.0842666667    2522          5165056.0  0.0590890790977  0.016220558633      0.00280729897734                 0.111955516876     0.0443368853318       0.0137\n",
       "     2016-10-09 00:47:36  3 min 13.688 sec  30033 obs/sec     86.0842666667    2522          5165056.0  0.0695601923839  0.021180403921      0.00380990575496                 0.11551784642      0.0470609828367       0.0147"
      ]
     },
     "metadata": {},
     "output_type": "display_data"
    },
    {
     "name": "stdout",
     "output_type": "stream",
     "text": [
      "\n",
      "See the whole table with table.as_data_frame()\n"
     ]
    }
   ],
   "source": [
    "model.show()"
   ]
  }
 ],
 "metadata": {
  "anaconda-cloud": {},
  "kernelspec": {
   "display_name": "Python [default]",
   "language": "python",
   "name": "python2"
  },
  "language_info": {
   "codemirror_mode": {
    "name": "ipython",
    "version": 2
   },
   "file_extension": ".py",
   "mimetype": "text/x-python",
   "name": "python",
   "nbconvert_exporter": "python",
   "pygments_lexer": "ipython2",
   "version": "2.7.12"
  }
 },
 "nbformat": 4,
 "nbformat_minor": 0
}
